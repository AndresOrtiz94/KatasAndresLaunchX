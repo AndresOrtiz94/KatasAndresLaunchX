{
 "cells": [
  {
   "cell_type": "code",
   "execution_count": 13,
   "metadata": {},
   "outputs": [
    {
     "name": "stdout",
     "output_type": "stream",
     "text": [
      "Los planetas son:  ['Mercury', 'Venus', 'Earth', 'Mars', 'Jupiter', 'Saturn', 'Uranus', 'Neptune']\n",
      "Ultimo planeta en la lista es:  Pluton\n"
     ]
    }
   ],
   "source": [
    "planets = ['Mercury', 'Venus', 'Earth', 'Mars', 'Jupiter', 'Saturn', 'Uranus', 'Neptune']\n",
    "print(\"Los planetas son: \",planets)\n",
    "planets.append(\"Pluton\")\n",
    "print(\"Ultimo planeta en la lista es: \",planets[-1])"
   ]
  },
  {
   "cell_type": "code",
   "execution_count": 24,
   "metadata": {},
   "outputs": [
    {
     "name": "stdout",
     "output_type": "stream",
     "text": [
      "El pleneta que ingresaste es el numero 3 mas lejano del sol\n",
      "Here are the planets closer than Earth\n",
      "['Mercury', 'Venus']\n",
      "Here are the planets further than Earth\n",
      "['Mars', 'Jupiter', 'Saturn', 'Uranus', 'Neptune']\n"
     ]
    }
   ],
   "source": [
    "planets = ['Mercury', 'Venus', 'Earth', 'Mars', 'Jupiter', 'Saturn', 'Uranus', 'Neptune']\n",
    "name = input(\"Ingresa el nombre del planeta: \")\n",
    "planet_index =planets.index(name)\n",
    "print(\"El pleneta que ingresaste es el numero\",planet_index+1,\"mas lejano del sol\")\n",
    "print('Here are the planets closer than ' + name)\n",
    "print(planets[0:planet_index])\n",
    "print('Here are the planets further than ' + name)\n",
    "print(planets[planet_index + 1:])"
   ]
  }
 ],
 "metadata": {
  "interpreter": {
   "hash": "38e70f6fd9c1a1cf8f9ea60d6241066c54f81e56e1df397261c41819d7e26821"
  },
  "kernelspec": {
   "display_name": "Python 3.10.2 64-bit",
   "language": "python",
   "name": "python3"
  },
  "language_info": {
   "codemirror_mode": {
    "name": "ipython",
    "version": 3
   },
   "file_extension": ".py",
   "mimetype": "text/x-python",
   "name": "python",
   "nbconvert_exporter": "python",
   "pygments_lexer": "ipython3",
   "version": "3.10.2"
  },
  "orig_nbformat": 4
 },
 "nbformat": 4,
 "nbformat_minor": 2
}
