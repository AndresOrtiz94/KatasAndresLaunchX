{
 "cells": [
  {
   "cell_type": "code",
   "execution_count": 1,
   "metadata": {},
   "outputs": [
    {
     "name": "stdout",
     "output_type": "stream",
     "text": [
      "¡Hay uno que se dirige a la tierra ahora a una velocidad de 19 km/s!\n"
     ]
    }
   ],
   "source": [
    "asteroide=49\n",
    "if asteroide>25:\n",
    "    print(\"¡Hay uno que se dirige a la tierra ahora a una velocidad de 19 km/s!\")\n",
    "else :\n",
    "        print('Sigue con tu dia')"
   ]
  },
  {
   "cell_type": "code",
   "execution_count": 2,
   "metadata": {},
   "outputs": [
    {
     "name": "stdout",
     "output_type": "stream",
     "text": [
      "¡Nada que ver aquí!\n"
     ]
    }
   ],
   "source": [
    "asteroide = 19\n",
    "if asteroide > 20:\n",
    "    print('Look up! ¡Hay una luz mágica en el cielo!')\n",
    "elif asteroide == 20:\n",
    "    print('Look up! ¡Hay una luz mágica en el cielo!')\n",
    "else:\n",
    "    print('¡Nada que ver aquí!')"
   ]
  },
  {
   "cell_type": "code",
   "execution_count": 3,
   "metadata": {},
   "outputs": [
    {
     "name": "stdout",
     "output_type": "stream",
     "text": [
      "Look up! ¡Hay una luz mágica en el cielo!\n"
     ]
    }
   ],
   "source": [
    "velocidad_asteroide = 25\n",
    "tamano_asteroide = 40\n",
    "if velocidad_asteroide > 25 and tamano_asteroide > 25:\n",
    "    print('¡Alerta, Un asteroide muy peligroso viene hacia la Tierra!')\n",
    "elif velocidad_asteroide >= 20:\n",
    "    print('Look up! ¡Hay una luz mágica en el cielo!')\n",
    "elif tamano_asteroide < 25:\n",
    "    print('Nada que ver aquí :)')\n",
    "else:\n",
    "    print('Nada que ver aquí :)')"
   ]
  }
 ],
 "metadata": {
  "interpreter": {
   "hash": "38e70f6fd9c1a1cf8f9ea60d6241066c54f81e56e1df397261c41819d7e26821"
  },
  "kernelspec": {
   "display_name": "Python 3.10.2 64-bit",
   "language": "python",
   "name": "python3"
  },
  "language_info": {
   "codemirror_mode": {
    "name": "ipython",
    "version": 3
   },
   "file_extension": ".py",
   "mimetype": "text/x-python",
   "name": "python",
   "nbconvert_exporter": "python",
   "pygments_lexer": "ipython3",
   "version": "3.10.2"
  },
  "orig_nbformat": 4
 },
 "nbformat": 4,
 "nbformat_minor": 2
}
